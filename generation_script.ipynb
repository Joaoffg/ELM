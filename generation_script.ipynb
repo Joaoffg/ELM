{
 "cells": [
  {
   "cell_type": "code",
   "execution_count": 1,
   "id": "5d2f453d-92a2-446e-a5c5-4acd42905e25",
   "metadata": {},
   "outputs": [
    {
     "name": "stdout",
     "output_type": "stream",
     "text": [
      "/data/storage_elm_medium/AISocIMP23/Week 5\n"
     ]
    },
    {
     "name": "stderr",
     "output_type": "stream",
     "text": [
      "/home/jferreirag/.local/lib/python3.8/site-packages/tqdm/auto.py:21: TqdmWarning: IProgress not found. Please update jupyter and ipywidgets. See https://ipywidgets.readthedocs.io/en/stable/user_install.html\n",
      "  from .autonotebook import tqdm as notebook_tqdm\n"
     ]
    }
   ],
   "source": [
    "%cd \"AISocIMP23/Week 5/\"\n",
    "\n",
    "#imports\n",
    "import os\n",
    "import sys\n",
    "from typing import List\n",
    "import json\n",
    "import warnings\n",
    "\n",
    "import torch\n",
    "import transformers\n",
    "from datasets import load_dataset\n",
    "import pandas as pd\n",
    "\n",
    "from peft import (\n",
    "    LoraConfig,\n",
    "    get_peft_model,\n",
    "    get_peft_model_state_dict,\n",
    "    prepare_model_for_int8_training,\n",
    "    set_peft_model_state_dict,\n",
    ")\n",
    "from transformers import LlamaForCausalLM, LlamaTokenizer, AutoModelForCausalLM\n",
    "\n",
    "from utils.prompter import Prompter\n",
    "warnings.filterwarnings('ignore')"
   ]
  },
  {
   "cell_type": "code",
   "execution_count": 2,
   "id": "8c6c6544-bf78-4abb-8b23-ffe9629a7e11",
   "metadata": {},
   "outputs": [],
   "source": [
    "#hparams\n",
    "base_model = \"data/storage_elm_medium/erasmian-lm/loopv3/checkpoint_3500000\"\n",
    "data_path = \"/datasets\"\n",
    "output_dir = \"/data/volume_2/CHAT_ELM_7M\"\n",
    "# training hyperparams\n",
    "batch_size = 32\n",
    "micro_batch_size = 4\n",
    "num_epochs =  3\n",
    "learning_rate =  2e-5\n",
    "cutoff_len =  256\n",
    "val_set_size =  0\n",
    "# lora hyperparams\n",
    "lora_r=  8\n",
    "lora_alpha = 16\n",
    "lora_dropout = 0.05\n",
    "lora_target_modules= [\n",
    "    \"q_proj\",\n",
    "    \"v_proj\",\n",
    "]\n",
    "# llm hyperparams\n",
    "train_on_inputs = False # if False, masks out inputs in loss\n",
    "add_eos_token = False\n",
    "group_by_length = True # false  # True = faster, but produces an odd training loss curve\n",
    "resume_from_checkpoint = None  # either training checkpoint or final adapter\n",
    "prompt_template_name = \"alpaca\"  # The prompt template to use, will default to alpaca.\n"
   ]
  },
  {
   "cell_type": "code",
   "execution_count": 3,
   "id": "efac6181-3540-4adb-b9af-48d598ce92e8",
   "metadata": {},
   "outputs": [],
   "source": [
    "class CustomPrompter(Prompter):\n",
    "    def get_response(self, output: str) -> str:\n",
    "        return output.split(self.template[\"response_split\"])[1].strip().split(\"### Instruction:\")[0]\n",
    "\n",
    "prompter = CustomPrompter(prompt_template_name)"
   ]
  },
  {
   "cell_type": "code",
   "execution_count": 4,
   "id": "302ae0aa-32aa-40b2-b73e-aa3edc947630",
   "metadata": {},
   "outputs": [],
   "source": [
    "gradient_accumulation_steps = batch_size // micro_batch_size\n",
    "\n",
    "device_map = \"auto\"\n",
    "world_size = int(os.environ.get(\"WORLD_SIZE\", 1))\n",
    "ddp = world_size != 1"
   ]
  },
  {
   "cell_type": "code",
   "execution_count": 5,
   "id": "eb0b55c6-dfef-4eac-9f45-e1a27ecfafd2",
   "metadata": {},
   "outputs": [
    {
     "name": "stderr",
     "output_type": "stream",
     "text": [
      "You are using the default legacy behaviour of the <class 'transformers.models.llama.tokenization_llama.LlamaTokenizer'>. This is expected, and simply means that the `legacy` (previous) behavior will be used so nothing changes for you. If you want to use the new behaviour, set `legacy=False`. This should only be set if you understand what it means, and thoroughly read the reason why this was added as explained in https://github.com/huggingface/transformers/pull/24565\n"
     ]
    }
   ],
   "source": [
    "from transformers import LlamaTokenizer, LlamaForCausalLM\n",
    "\n",
    "token_path=\"/data/storage_elm_medium/AISocIMP23/Week 4/Token\"\n",
    "model_path=\"/data/storage_elm_medium/CHAT_ELM_7Mv3\"\n",
    "\n",
    "tokenizer = LlamaTokenizer.from_pretrained(token_path)\n",
    "model = AutoModelForCausalLM.from_pretrained(model_path)\n",
    "\n",
    "tokenizer.pad_token_id =  0\n",
    "model.config.pad_token_id = 0\n",
    "#tokenizer.padding_side = \"right\"  # Allow batched inference"
   ]
  },
  {
   "cell_type": "code",
   "execution_count": 6,
   "id": "c564d0c5-67a8-44ff-a8a1-32ce486d347b",
   "metadata": {},
   "outputs": [],
   "source": [
    "def tokenize(prompt, add_eos_token=True):\n",
    "  result = tokenizer(\n",
    "      prompt,\n",
    "      truncation=True,\n",
    "      max_length=cutoff_len,\n",
    "      padding=False,\n",
    "      return_tensors=None,\n",
    "  )\n",
    "  if (\n",
    "      result[\"input_ids\"][-1] != tokenizer.eos_token_id\n",
    "      and len(result[\"input_ids\"]) < cutoff_len\n",
    "      and add_eos_token\n",
    "  ):\n",
    "      result[\"input_ids\"].append(tokenizer.eos_token_id)\n",
    "      result[\"attention_mask\"].append(1)\n",
    "\n",
    "  result[\"labels\"] = result[\"input_ids\"].copy()\n",
    "\n",
    "  return result\n",
    "\n",
    "def generate_and_tokenize_prompt(data_point):\n",
    "    full_prompt = prompter.generate_prompt(\n",
    "        data_point[\"instruction\"],\n",
    "        data_point[\"input\"],\n",
    "        data_point[\"output\"],\n",
    "    )\n",
    "    tokenized_full_prompt = tokenize(full_prompt)\n",
    "    if not train_on_inputs:\n",
    "        user_prompt = prompter.generate_prompt(\n",
    "            data_point[\"instruction\"], data_point[\"input\"]\n",
    "        )\n",
    "        tokenized_user_prompt = tokenize(\n",
    "            user_prompt, add_eos_token=add_eos_token\n",
    "        )\n",
    "        user_prompt_len = len(tokenized_user_prompt[\"input_ids\"])\n",
    "\n",
    "        if add_eos_token:\n",
    "            user_prompt_len -= 1\n",
    "\n",
    "        tokenized_full_prompt[\"labels\"] = [\n",
    "            -100\n",
    "        ] * user_prompt_len + tokenized_full_prompt[\"labels\"][\n",
    "            user_prompt_len:\n",
    "        ]  # could be sped up, probably\n",
    "    return tokenized_full_prompt"
   ]
  },
  {
   "cell_type": "code",
   "execution_count": 7,
   "id": "ea9b0446-b002-4d63-8dbc-250677c29c7c",
   "metadata": {},
   "outputs": [
    {
     "name": "stdout",
     "output_type": "stream",
     "text": [
      "Instruction: Explain what is economic growth\n",
      "Output 0: Economic growth refers to changes in GDP, employment and income levels over time as well as its determinants such as population size or age distribution. It can be defined by two main components of economic development; i) The rate at which people are able to work (i.e., their ability to perform tasks), including working hours per week, number of days on job, and other activities like hiring new employees for jobs or training, while 2) A change in consumption patterns due to changing environmental conditions, eg, increasing energy expenditure, decreasing food prices, etcetera.\n"
     ]
    }
   ],
   "source": [
    "instruction = \"Explain what is economic growth\" #\n",
    "\n",
    "# Generate a response:\n",
    "model = model.to(\"cuda:0\")\n",
    "input = None\n",
    "prompt = prompter.generate_prompt(instruction, input)\n",
    "inputs = tokenizer(prompt, return_tensors=\"pt\")\n",
    "inputs = inputs.to(\"cuda:0\")\n",
    "input_ids = inputs[\"input_ids\"]\n",
    "\n",
    "#play around with generation strategies for better/diverse sequences. https://huggingface.co/docs/transformers/generation_strategies\n",
    "temperature=0.2\n",
    "top_p=0.95\n",
    "top_k=25\n",
    "num_beams=1\n",
    "# num_beam_groups=num_beams #see: 'Diverse beam search decoding'\n",
    "max_new_tokens=256\n",
    "repetition_penalty = 2.0\n",
    "do_sample = True # allow 'beam sample': do_sample=True, num_beams > 1\n",
    "num_return_sequences = 1 #generate multiple candidates, takes longer..\n",
    "\n",
    "generation_config = transformers.GenerationConfig(\n",
    "    temperature=temperature,\n",
    "    top_p=top_p,\n",
    "    top_k=top_k,\n",
    "    num_beams=num_beams,\n",
    "    repetition_penalty=repetition_penalty,\n",
    "    do_sample=do_sample,\n",
    "    min_new_tokens=32,\n",
    "    num_return_sequences=num_return_sequences,\n",
    "    pad_token_id = 0\n",
    "    # num_beam_groups=num_beam_groups\n",
    ")\n",
    "\n",
    "generate_params = {\n",
    "    \"input_ids\": input_ids,\n",
    "    \"generation_config\": generation_config,\n",
    "    \"return_dict_in_generate\": True,\n",
    "    \"output_scores\": True,\n",
    "    \"max_new_tokens\": max_new_tokens,\n",
    "}\n",
    "with torch.no_grad():\n",
    "    generation_output = model.generate(\n",
    "        input_ids=input_ids,\n",
    "        generation_config=generation_config,\n",
    "        return_dict_in_generate=True,\n",
    "        output_scores=True,\n",
    "        max_new_tokens=max_new_tokens,\n",
    "    )\n",
    "\n",
    "\n",
    "print(f'Instruction: {instruction}')\n",
    "\n",
    "for i,s in enumerate(generation_output.sequences):\n",
    "  output = tokenizer.decode(s,skip_special_tokens=True)\n",
    "  # print(output)\n",
    "  print(f'Output {i}: {prompter.get_response(output)}')"
   ]
  },
  {
   "cell_type": "code",
   "execution_count": 8,
   "id": "07a8e1e3-541b-41c2-94a2-281a36a8b732",
   "metadata": {},
   "outputs": [],
   "source": [
    "def evaluate(instruction):\n",
    "    # Generate a response:\n",
    "    input = None\n",
    "    prompt = prompter.generate_prompt(instruction, input)\n",
    "    inputs = tokenizer(prompt, return_tensors=\"pt\")\n",
    "    inputs = inputs.to(\"cuda:0\")\n",
    "    input_ids = inputs[\"input_ids\"]\n",
    "    \n",
    "    #play around with generation strategies for better/diverse sequences. https://huggingface.co/docs/transformers/generation_strategies\n",
    "    temperature=0.2\n",
    "    top_p=0.95\n",
    "    top_k=25\n",
    "    num_beams=1\n",
    "    # num_beam_groups=num_beams #see: 'Diverse beam search decoding'\n",
    "    max_new_tokens=256\n",
    "    repetition_penalty = 2.0\n",
    "    do_sample = True # allow 'beam sample': do_sample=True, num_beams > 1\n",
    "    num_return_sequences = 1 #generate multiple candidates, takes longer..\n",
    "    \n",
    "    generation_config = transformers.GenerationConfig(\n",
    "        temperature=temperature,\n",
    "        top_p=top_p,\n",
    "        top_k=top_k,\n",
    "        num_beams=num_beams,\n",
    "        repetition_penalty=repetition_penalty,\n",
    "        do_sample=do_sample,\n",
    "        min_new_tokens=32,\n",
    "        num_return_sequences=num_return_sequences,\n",
    "        pad_token_id = 0\n",
    "        # num_beam_groups=num_beam_groups\n",
    "    )\n",
    "    \n",
    "    generate_params = {\n",
    "        \"input_ids\": input_ids,\n",
    "        \"generation_config\": generation_config,\n",
    "        \"return_dict_in_generate\": True,\n",
    "        \"output_scores\": True,\n",
    "        \"max_new_tokens\": max_new_tokens,\n",
    "    }\n",
    "    with torch.no_grad():\n",
    "        generation_output = model.generate(\n",
    "            input_ids=input_ids,\n",
    "            generation_config=generation_config,\n",
    "            return_dict_in_generate=True,\n",
    "            output_scores=True,\n",
    "            max_new_tokens=max_new_tokens,\n",
    "        )\n",
    "    \n",
    "    \n",
    "    print(f'Instruction: {instruction}')\n",
    "    \n",
    "    for i,s in enumerate(generation_output.sequences):\n",
    "      output = tokenizer.decode(s,skip_special_tokens=True)\n",
    "      # print(output)\n",
    "      return(f' {prompter.get_response(output)}')"
   ]
  },
  {
   "cell_type": "code",
   "execution_count": 10,
   "id": "1bb3ad96-ac15-4f55-bea8-936196043f56",
   "metadata": {},
   "outputs": [],
   "source": [
    "import gradio as gr"
   ]
  },
  {
   "cell_type": "code",
   "execution_count": null,
   "id": "bd68223a-56c0-4cb4-89cb-b951658f081f",
   "metadata": {},
   "outputs": [],
   "source": [
    "gr.Interface(\n",
    "    fn=evaluate,\n",
    "    inputs=[\n",
    "            gr.components.Textbox(\n",
    "                lines=2,\n",
    "                label=\"Instruction\",\n",
    "                placeholder=\"Tell me about alpacas.\",\n",
    "            ),\n",
    "            gr.components.Textbox(lines=2, label=\"Input\", placeholder=\"none\"),\n",
    "            gr.components.Slider(\n",
    "                minimum=0, maximum=1, value=0.1, label=\"Temperature\"\n",
    "            ),\n",
    "            gr.components.Slider(\n",
    "                minimum=0, maximum=1, value=0.75, label=\"Top p\"\n",
    "            ),\n",
    "            gr.components.Slider(\n",
    "                minimum=0, maximum=100, step=1, value=40, label=\"Top k\"\n",
    "            ),\n",
    "            gr.components.Slider(\n",
    "                minimum=1, maximum=4, step=1, value=4, label=\"Beams\"\n",
    "            ),\n",
    "            gr.components.Slider(\n",
    "                minimum=1, maximum=2000, step=1, value=128, label=\"Max tokens\"\n",
    "            ),\n",
    "            gr.components.Checkbox(label=\"Stream output\"),\n",
    "        ],\n",
    "        outputs=[\n",
    "            gr.components.Textbox(\n",
    "                lines=5,\n",
    "                label=\"Output\",\n",
    "            )\n",
    "        ],\n",
    "    title=\"🦙🌲 Alpaca-LoRA\",\n",
    "    description=\"Alpaca-LoRA is a 7B-parameter LLaMA model finetuned to follow instructions. It is trained on the [Stanford Alpaca](https://github.com/tatsu-lab/stanford_alpaca) dataset and makes use of the Huggingface LLaMA implementation. For more information, please visit [the project's website](https://github.com/tloen/alpaca-lora).\",  # noqa: E501\n",
    "    ).queue().launch(server_name=\"0.0.0.0\", share=True)\n",
    "     # Old testing code follows."
   ]
  },
  {
   "cell_type": "code",
   "execution_count": 11,
   "id": "3ebcde1c-1504-4d32-a81f-2fb9e44f5234",
   "metadata": {},
   "outputs": [
    {
     "name": "stdout",
     "output_type": "stream",
     "text": [
      "Running on local URL:  http://0.0.0.0:7860\n",
      "Running on public URL: https://fc37f2edaf8ee7bf98.gradio.live\n",
      "\n",
      "This share link expires in 72 hours. For free permanent hosting and GPU upgrades, run `gradio deploy` from Terminal to deploy to Spaces (https://huggingface.co/spaces)\n"
     ]
    },
    {
     "data": {
      "text/html": [
       "<div><iframe src=\"https://fc37f2edaf8ee7bf98.gradio.live\" width=\"100%\" height=\"500\" allow=\"autoplay; camera; microphone; clipboard-read; clipboard-write;\" frameborder=\"0\" allowfullscreen></iframe></div>"
      ],
      "text/plain": [
       "<IPython.core.display.HTML object>"
      ]
     },
     "metadata": {},
     "output_type": "display_data"
    },
    {
     "data": {
      "text/plain": []
     },
     "execution_count": 11,
     "metadata": {},
     "output_type": "execute_result"
    },
    {
     "name": "stdout",
     "output_type": "stream",
     "text": [
      "Instruction: What is academic freedom?\n",
      "Instruction: What is life\n"
     ]
    }
   ],
   "source": [
    "gr.Interface(\n",
    "    fn=evaluate,\n",
    "    inputs=[\n",
    "            gr.components.Textbox(\n",
    "                lines=2,\n",
    "                label=\"Instruction\",\n",
    "                placeholder=\"Explain economic growth.\",\n",
    "            ),\n",
    "        ],\n",
    "        outputs=[\n",
    "            gr.components.Textbox(\n",
    "                lines=5,\n",
    "                label=\"Output\",\n",
    "            )\n",
    "        ],\n",
    "    title=\"🌲 ELM - Erasmian Language Model\",\n",
    "    description=\"ELM is a 900M parameter language model finetuned to follow instruction. It is trained on Erasmus University academic outputs and the [Stanford Alpaca](https://github.com/tatsu-lab/stanford_alpaca) dataset. For more information, please visit [the GitHub repository](https://github.com/Joaoffg/ELM).\",  # noqa: E501\n",
    "    ).queue().launch(server_name=\"0.0.0.0\", share=True)\n",
    "     # Old testing code follows."
   ]
  },
  {
   "cell_type": "code",
   "execution_count": null,
   "id": "8cb5c7d2-5d83-4c30-a1a4-bbaf4d985a04",
   "metadata": {},
   "outputs": [],
   "source": []
  }
 ],
 "metadata": {
  "kernelspec": {
   "display_name": "Python 3 (ipykernel)",
   "language": "python",
   "name": "python3"
  },
  "language_info": {
   "codemirror_mode": {
    "name": "ipython",
    "version": 3
   },
   "file_extension": ".py",
   "mimetype": "text/x-python",
   "name": "python",
   "nbconvert_exporter": "python",
   "pygments_lexer": "ipython3",
   "version": "3.8.10"
  }
 },
 "nbformat": 4,
 "nbformat_minor": 5
}
